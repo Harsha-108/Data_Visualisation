{
 "cells": [
  {
   "cell_type": "code",
   "execution_count": 6,
   "id": "54041cdc",
   "metadata": {},
   "outputs": [],
   "source": [
    "values = [\n",
    "    [101,'Aman Sharma' ,15,67,89,80,89,90,415],\n",
    "    [102,'Ashish Raghav' ,15,67,89,87,19,90,352],\n",
    "    [103,'Aryan Malik' ,15,67,89,82,89,90,418],\n",
    "    [104,'Ayush Khare' ,15,67,79,87,89,90,412],\n",
    "    [105,'Hardik Gupta' ,15,67,89,87,80,90,421],\n",
    "    [106,'Aryan Chauhan' ,15,67,89,77,89,90,412],\n",
    "    [107,'Ayush Shrivastava' ,15,67,49,87,70,90,361],\n",
    "    [108,'Hariom Yadav' ,15,67,89,87,89,91,423],\n",
    "    [109,'Harsh Choudhary' ,100,97,99,97,99,90,482]\n",
    "]"
   ]
  },
  {
   "cell_type": "code",
   "execution_count": 7,
   "id": "19fb1987",
   "metadata": {},
   "outputs": [],
   "source": [
    "keys = ['StdId','StdName','Age','Hindi','English','Maths','Science','Computer','Total']"
   ]
  },
  {
   "cell_type": "code",
   "execution_count": 73,
   "id": "07cca4dd",
   "metadata": {},
   "outputs": [
    {
     "data": {
      "text/plain": [
       "[{'StdId': 101,\n",
       "  'StdName': 'Aman Sharma',\n",
       "  'Age': 15,\n",
       "  'Hindi': 67,\n",
       "  'English': 89,\n",
       "  'Maths': 80,\n",
       "  'Science': 89,\n",
       "  'Computer': 90,\n",
       "  'Total': 415},\n",
       " {'StdId': 102,\n",
       "  'StdName': 'Ashish Raghav',\n",
       "  'Age': 15,\n",
       "  'Hindi': 67,\n",
       "  'English': 89,\n",
       "  'Maths': 87,\n",
       "  'Science': 19,\n",
       "  'Computer': 90,\n",
       "  'Total': 352},\n",
       " {'StdId': 103,\n",
       "  'StdName': 'Aryan Malik',\n",
       "  'Age': 15,\n",
       "  'Hindi': 67,\n",
       "  'English': 89,\n",
       "  'Maths': 82,\n",
       "  'Science': 89,\n",
       "  'Computer': 90,\n",
       "  'Total': 418},\n",
       " {'StdId': 104,\n",
       "  'StdName': 'Ayush Khare',\n",
       "  'Age': 15,\n",
       "  'Hindi': 67,\n",
       "  'English': 79,\n",
       "  'Maths': 87,\n",
       "  'Science': 89,\n",
       "  'Computer': 90,\n",
       "  'Total': 412},\n",
       " {'StdId': 105,\n",
       "  'StdName': 'Hardik Gupta',\n",
       "  'Age': 15,\n",
       "  'Hindi': 67,\n",
       "  'English': 89,\n",
       "  'Maths': 87,\n",
       "  'Science': 80,\n",
       "  'Computer': 90,\n",
       "  'Total': 421},\n",
       " {'StdId': 106,\n",
       "  'StdName': 'Aryan Chauhan',\n",
       "  'Age': 15,\n",
       "  'Hindi': 67,\n",
       "  'English': 89,\n",
       "  'Maths': 77,\n",
       "  'Science': 89,\n",
       "  'Computer': 90,\n",
       "  'Total': 412},\n",
       " {'StdId': 107,\n",
       "  'StdName': 'Ayush Shrivastava',\n",
       "  'Age': 15,\n",
       "  'Hindi': 67,\n",
       "  'English': 49,\n",
       "  'Maths': 87,\n",
       "  'Science': 70,\n",
       "  'Computer': 90,\n",
       "  'Total': 361},\n",
       " {'StdId': 108,\n",
       "  'StdName': 'Hariom Yadav',\n",
       "  'Age': 15,\n",
       "  'Hindi': 67,\n",
       "  'English': 89,\n",
       "  'Maths': 87,\n",
       "  'Science': 89,\n",
       "  'Computer': 91,\n",
       "  'Total': 423},\n",
       " {'StdId': 109,\n",
       "  'StdName': 'Harsh Choudhary',\n",
       "  'Age': 100,\n",
       "  'Hindi': 97,\n",
       "  'English': 99,\n",
       "  'Maths': 97,\n",
       "  'Science': 99,\n",
       "  'Computer': 90,\n",
       "  'Total': 482}]"
      ]
     },
     "execution_count": 73,
     "metadata": {},
     "output_type": "execute_result"
    }
   ],
   "source": [
    "dict_1 = []\n",
    "for index in range(len(values)):\n",
    "    dict_1.append(dict(zip(keys,values[index])))\n",
    "dict_1"
   ]
  },
  {
   "cell_type": "code",
   "execution_count": 30,
   "id": "b80ae6be",
   "metadata": {},
   "outputs": [
    {
     "data": {
      "text/plain": [
       "{0: {'StdId': 101,\n",
       "  'StdName': 'Aman Sharma',\n",
       "  'Age': 15,\n",
       "  'Hindi': 67,\n",
       "  'English': 89,\n",
       "  'Maths': 80,\n",
       "  'Science': 89,\n",
       "  'Computer': 90,\n",
       "  'Total': 415},\n",
       " 1: {'StdId': 102,\n",
       "  'StdName': 'Ashish Raghav',\n",
       "  'Age': 15,\n",
       "  'Hindi': 67,\n",
       "  'English': 89,\n",
       "  'Maths': 87,\n",
       "  'Science': 19,\n",
       "  'Computer': 90,\n",
       "  'Total': 352},\n",
       " 2: {'StdId': 103,\n",
       "  'StdName': 'Aryan Malik',\n",
       "  'Age': 15,\n",
       "  'Hindi': 67,\n",
       "  'English': 89,\n",
       "  'Maths': 82,\n",
       "  'Science': 89,\n",
       "  'Computer': 90,\n",
       "  'Total': 418},\n",
       " 3: {'StdId': 104,\n",
       "  'StdName': 'Ayush Khare',\n",
       "  'Age': 15,\n",
       "  'Hindi': 67,\n",
       "  'English': 79,\n",
       "  'Maths': 87,\n",
       "  'Science': 89,\n",
       "  'Computer': 90,\n",
       "  'Total': 412},\n",
       " 4: {'StdId': 105,\n",
       "  'StdName': 'Hardik Gupta',\n",
       "  'Age': 15,\n",
       "  'Hindi': 67,\n",
       "  'English': 89,\n",
       "  'Maths': 87,\n",
       "  'Science': 80,\n",
       "  'Computer': 90,\n",
       "  'Total': 421},\n",
       " 5: {'StdId': 106,\n",
       "  'StdName': 'Aryan Chauhan',\n",
       "  'Age': 15,\n",
       "  'Hindi': 67,\n",
       "  'English': 89,\n",
       "  'Maths': 77,\n",
       "  'Science': 89,\n",
       "  'Computer': 90,\n",
       "  'Total': 412},\n",
       " 6: {'StdId': 107,\n",
       "  'StdName': 'Ayush Shrivastava',\n",
       "  'Age': 15,\n",
       "  'Hindi': 67,\n",
       "  'English': 49,\n",
       "  'Maths': 87,\n",
       "  'Science': 70,\n",
       "  'Computer': 90,\n",
       "  'Total': 361},\n",
       " 7: {'StdId': 108,\n",
       "  'StdName': 'Hariom Yadav',\n",
       "  'Age': 15,\n",
       "  'Hindi': 67,\n",
       "  'English': 89,\n",
       "  'Maths': 87,\n",
       "  'Science': 89,\n",
       "  'Computer': 91,\n",
       "  'Total': 423},\n",
       " 8: {'StdId': 109,\n",
       "  'StdName': 'Harsh Choudhary',\n",
       "  'Age': 100,\n",
       "  'Hindi': 97,\n",
       "  'English': 99,\n",
       "  'Maths': 97,\n",
       "  'Science': 99,\n",
       "  'Computer': 90,\n",
       "  'Total': 482}}"
      ]
     },
     "execution_count": 30,
     "metadata": {},
     "output_type": "execute_result"
    }
   ],
   "source": [
    "dict_2 = {}\n",
    "for index in range(len(values)):\n",
    "    dict_2[index] = (dict(zip(keys,values[index])))\n",
    "dict_2"
   ]
  },
  {
   "cell_type": "code",
   "execution_count": 37,
   "id": "c131a122",
   "metadata": {},
   "outputs": [
    {
     "name": "stdout",
     "output_type": "stream",
     "text": [
      "Name of student whose marks are greater than 50 in english\n",
      "Aman Sharma\n",
      "Ashish Raghav\n",
      "Aryan Malik\n",
      "Ayush Khare\n",
      "Hardik Gupta\n",
      "Aryan Chauhan\n",
      "Hariom Yadav\n",
      "Harsh Choudhary\n"
     ]
    }
   ],
   "source": [
    "print('Name of student whose marks are greater than 50 in english')\n",
    "for data in dict_2:\n",
    "    if dict_2[data]['English'] > 50:\n",
    "        print(dict_2[data]['StdName'])"
   ]
  },
  {
   "cell_type": "code",
   "execution_count": 70,
   "id": "966834fe",
   "metadata": {},
   "outputs": [
    {
     "name": "stdout",
     "output_type": "stream",
     "text": [
      "Name and Age of top four scorers in maths\n",
      "Harsh Choudhary\n",
      "Hariom Yadav\n",
      "Ayush Shrivastava\n",
      "Hardik Gupta\n"
     ]
    }
   ],
   "source": [
    "print('Name and Age of top four scorers in maths')\n",
    "maths = sorted(dict_2,key = lambda x: dict_2[x]['Maths'])\n",
    "maths.reverse()\n",
    "for data in maths[:4]:\n",
    "    print(dict_2[data]['StdName'])"
   ]
  },
  {
   "cell_type": "code",
   "execution_count": 91,
   "id": "4553316b",
   "metadata": {},
   "outputs": [
    {
     "name": "stdout",
     "output_type": "stream",
     "text": [
      "StdId | StdName | Age | Hindi | English | Maths | Science | Computer | Total \n",
      " ----------------------------------------\n",
      "101 | Aman Sharma | 15 | 67 | 89 | 80 | 89 | 90 | 415\n",
      "102 | Ashish Raghav | 15 | 67 | 89 | 87 | 19 | 90 | 352\n",
      "103 | Aryan Malik | 15 | 67 | 89 | 82 | 89 | 90 | 418\n",
      "104 | Ayush Khare | 15 | 67 | 79 | 87 | 89 | 90 | 412\n",
      "105 | Hardik Gupta | 15 | 67 | 89 | 87 | 80 | 90 | 421\n",
      "106 | Aryan Chauhan | 15 | 67 | 89 | 77 | 89 | 90 | 412\n",
      "107 | Ayush Shrivastava | 15 | 67 | 49 | 87 | 70 | 90 | 361\n",
      "108 | Hariom Yadav | 15 | 67 | 89 | 87 | 89 | 91 | 423\n",
      "109 | Harsh Choudhary | 16 | 97 | 99 | 97 | 99 | 90 | 482\n"
     ]
    }
   ],
   "source": [
    "print(\" | \".join(dict_2[next(iter(dict_2))].keys()), end=\" \\n \")\n",
    "print(\"-\" * 40)\n",
    "\n",
    "for data in dict_2:\n",
    "    print(\" | \".join(map(str, dict_2[data].values())))"
   ]
  },
  {
   "cell_type": "code",
   "execution_count": 86,
   "id": "52346d25",
   "metadata": {},
   "outputs": [
    {
     "name": "stdout",
     "output_type": "stream",
     "text": [
      "Name and Age of top four scorers in maths\n",
      "Harsh Choudhary 16 \n",
      " Hariom Yadav 15 \n",
      " Ayush Shrivastava 15 \n",
      " Hardik Gupta 15 \n",
      " "
     ]
    }
   ],
   "source": [
    "print('Name and Age of top four scorers in maths')\n",
    "maths = sorted(dict_2,key = lambda x: dict_2[x]['Maths'])\n",
    "maths.reverse()\n",
    "dict_2[8]['Age'] = 16\n",
    "for data in maths[:4]:\n",
    "    print(dict_2[data]['StdName'],end = \" \")\n",
    "    print(dict_2[data]['Age'],end = \" \\n \")"
   ]
  },
  {
   "cell_type": "code",
   "execution_count": 76,
   "id": "ef6207ed",
   "metadata": {},
   "outputs": [
    {
     "name": "stdout",
     "output_type": "stream",
     "text": [
      "Name, Id of students who are bottom three scorers in Computer\n",
      "Aman Sharma 101 \n",
      " Ashish Raghav 102 \n",
      " Aryan Malik 103 \n",
      " Ayush Khare 104 \n",
      " "
     ]
    }
   ],
   "source": [
    "print('Name, Id of students who are bottom three scorers in Computer')\n",
    "computers = sorted(dict_2,key = lambda x: dict_2[x]['Computer'])\n",
    "for data in computers[:4]:\n",
    "    print(dict_2[data]['StdName'],end = \" \")\n",
    "    print(dict_2[data]['StdId'],end = \" \\n \")\n",
    "    "
   ]
  },
  {
   "cell_type": "code",
   "execution_count": null,
   "id": "6252a090",
   "metadata": {},
   "outputs": [],
   "source": []
  }
 ],
 "metadata": {
  "kernelspec": {
   "display_name": "Python 3 (ipykernel)",
   "language": "python",
   "name": "python3"
  },
  "language_info": {
   "codemirror_mode": {
    "name": "ipython",
    "version": 3
   },
   "file_extension": ".py",
   "mimetype": "text/x-python",
   "name": "python",
   "nbconvert_exporter": "python",
   "pygments_lexer": "ipython3",
   "version": "3.11.7"
  }
 },
 "nbformat": 4,
 "nbformat_minor": 5
}
