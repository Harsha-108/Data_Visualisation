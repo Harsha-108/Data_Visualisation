{
 "cells": [
  {
   "cell_type": "code",
   "execution_count": 28,
   "id": "4ee75895",
   "metadata": {},
   "outputs": [
    {
     "name": "stdout",
     "output_type": "stream",
     "text": [
      "Enter the no. you want to check is prime : 2\n",
      "2,is a Prime Number\n"
     ]
    }
   ],
   "source": [
    "#program to check whether a number is prime or not\n",
    "import math\n",
    "num = int(input(\"Enter the no. you want to check is prime : \"))\n",
    "if num <= 0:\n",
    "    print(\"Enter Positive integer\")\n",
    "elif num == 1:\n",
    "    print(\"Not a prime number\")\n",
    "elif num == 2:\n",
    "    print(\"2,is a Prime Number\")\n",
    "else:\n",
    "    isprime = True\n",
    "    for value in range(2,int(math.sqrt(num))+1):\n",
    "        if num%value == 0:\n",
    "            isprime = false\n",
    "    if isprime:\n",
    "        print(f\"{num},is a Prime Number\")\n",
    "    else:\n",
    "        print(f\"{num},is not a Prime Number,Composite Number\")"
   ]
  },
  {
   "cell_type": "code",
   "execution_count": 19,
   "id": "8347b01e",
   "metadata": {},
   "outputs": [
    {
     "name": "stdout",
     "output_type": "stream",
     "text": [
      "Enter a positive integer: 3\n",
      "The factorial of 3 is : 6\n"
     ]
    }
   ],
   "source": [
    "def factorial(num):\n",
    "    if num == 0 or num == 1:\n",
    "        return 1\n",
    "    else:\n",
    "        result = num * factorial(num - 1)\n",
    "        return result\n",
    "num = int(input(\"Enter a positive integer: \"))\n",
    "print(f\"The factorial of {num} is :\" ,factorial(num))\n"
   ]
  },
  {
   "cell_type": "code",
   "execution_count": 21,
   "id": "7fdb6493",
   "metadata": {},
   "outputs": [
    {
     "name": "stdout",
     "output_type": "stream",
     "text": [
      "Enter Number 1:45\n",
      "Enter Number 2:5\n",
      "Sum of 45 and 5 is:  50\n"
     ]
    }
   ],
   "source": [
    "def sum(x,y):\n",
    "    return x + y\n",
    "num1 = int(input('Enter Number 1:'))\n",
    "num2 = int(input('Enter Number 2:'))\n",
    "print(f\"Sum of {num1} and {num2} is: \",sum(num1,num2))"
   ]
  },
  {
   "cell_type": "code",
   "execution_count": 24,
   "id": "69fba74c",
   "metadata": {},
   "outputs": [
    {
     "name": "stdout",
     "output_type": "stream",
     "text": [
      "Enter the principle amount:100000\n",
      "Enter the rate of interest:18\n",
      "Enter the time period:3\n",
      "The simple interest for amount 100000 at rate 18% for 3 years will be :   54000.0\n"
     ]
    }
   ],
   "source": [
    "def interest(p,r,t):\n",
    "    return (p*r*t/100)\n",
    "\n",
    "principle = int(input(\"Enter the principle amount:\"))\n",
    "rate = int(input(\"Enter the rate of interest:\"))\n",
    "time = int(input(\"Enter the time period:\"))\n",
    "print(f\"The simple interest for amount {principle} at rate {rate}% for {time} years will be :  \",interest(principle,rate,time))"
   ]
  },
  {
   "cell_type": "code",
   "execution_count": 40,
   "id": "f1b95ef9",
   "metadata": {},
   "outputs": [
    {
     "name": "stdout",
     "output_type": "stream",
     "text": [
      "Total occurences of INDIA are :  12\n"
     ]
    }
   ],
   "source": [
    "note = '''India, officially known as the Republic of India, is a country in South Asia. India is the seventh-largest country by land area and the most populous democracy in the world. India's history dates back thousands of years, with its civilization being one of the oldest in the world. India is renowned for its rich cultural heritage, diverse traditions, and significant contributions to art, science, and philosophy.\n",
    "\n",
    "India gained independence from British rule on August 15, 1947, marking a significant milestone in the nation's history. Since then, India has grown to become one of the world's largest economies, with a strong presence in information technology, manufacturing, and services sectors. India's economic growth has been accompanied by advancements in education, healthcare, and infrastructure, improving the quality of life for millions of its citizens.\n",
    "\n",
    "India is a land of diverse languages, religions, and cultures, with over 2,000 distinct ethnic groups and more than 1,600 spoken languages. Hindi and English are the official languages of India, while each state has its own official language. India's cultural diversity is reflected in its festivals, cuisine, music, dance, and architecture, making it a vibrant and dynamic country.\n",
    "\n",
    "India's political system is a federal parliamentary democratic republic, with the President of India serving as the head of state and the Prime Minister of India as the head of government. India's constitution, adopted in 1950, is the longest written constitution of any sovereign nation in the world and lays down the framework for the political principles, procedures, and powers of government institutions.\n",
    "\n",
    "India plays a significant role in global affairs, being a founding member of several international organizations, including the United Nations, the World Trade Organization, and the South Asian Association for Regional Cooperation (SAARC). India's strategic location, growing economy, and large population make it a key player in regional and global geopolitics.\n",
    "\n",
    "India is also known for its natural beauty, with diverse landscapes ranging from the Himalayas in the north to the coastal plains in the south. India is home to numerous UNESCO World Heritage Sites, including the Taj Mahal, the Qutub Minar, and the Ajanta and Ellora Caves, which attract millions of tourists each year.\n",
    "\n",
    "In summary, India is a nation with a rich history, diverse culture, and a rapidly growing economy. India's contributions to the world in various fields are significant, and its influence on global affairs continues to grow. India remains a land of immense potential and opportunities, with a bright future ahead.'''\n",
    "with open(\"India.txt\",\"w+\") as file:\n",
    "    file.write(note)\n",
    "    file.seek(0)\n",
    "    content = file.read()\n",
    "    count = 0\n",
    "    for values in content.split():\n",
    "        if values in ['INDIA','india','India']:\n",
    "            count += 1\n",
    "    print(\"Total occurences of INDIA are : \",count)\n",
    "    \n"
   ]
  },
  {
   "cell_type": "code",
   "execution_count": 59,
   "id": "ede22b9a",
   "metadata": {},
   "outputs": [
    {
     "name": "stdout",
     "output_type": "stream",
     "text": [
      "The heroes gather their forces, but tensions rise when Liya and Lambert overhear a secret meeting where the gem’s dark influence and the Black Dragon Karas’ threat are discussed. As the alliance plans a diversionary attack and infiltration, they learn the gem's corrupting power must be destroyed to save the land. However, betrayal lurks in the shadows. Velskud, a knight, is seduced by Princess Elena, a Dark Elf with her own designs on the gem. Velskud kills the king and joins the heroes under false pretenses.\n",
      "Their journey through the Dark Mountains is fraught with danger. When the Alliance’s attack begins prematurely, Karas awakens, and chaos ensues. Lambert and Liya find themselves isolated and fighting desperately. Liya sacrifices herself to save Lambert, leaving him heartbroken. In a desperate bid to save his companions, Lambert climbs Karas and manages to detach the dark gem from the dragon, killing the beast.\n",
      "Total occurrences of lines starting with 'T' or 't': 2\n"
     ]
    }
   ],
   "source": [
    "story = '''***The Tale of Warriors Dawn***\n",
    "In the ancient land of Alteria, a realm once divided among humans, elves, goblinoids (known as \"beasts\"), and dragons, peace was a fleeting dream. Fifty years before the great conflict that would shape the future, the elves and humans had driven the beasts and dragons into the Dark Mountains. With their common enemies vanquished, the two once-allied races soon turned against each other, unaware that darkness was growing stronger in the very mountains they thought were subdued. The Black Dragon Karas, bound by a gem of dark power embedded in his chest, was stirring once more, rallying the beasts into a formidable army.\n",
    "\n",
    "Lambert, a spirited and adventurous young human, lived a carefree life with his loyal dogs, One and Two. His world is turned upside down when he encounters a marauding band of beasts. Just as Lambert and his dogs are about to meet a grim fate, they are rescued by a trio of legendary adventurers: Barnac, the daring captain of a flying ship; Geraint, the renowned dragon fighter; and Argenta, Geraint’s fierce sister. Their rescue leads them to the human kingdom of Saint Heaven, where Lambert’s path intersects with that of Liya, a brave Elven maiden. Liya, along with her companion, Princess Nerwin, has come to plead with the king for an alliance against the looming beast threat.\n",
    "\n",
    "Amidst Lambert’s attempts to secure a sword and prove his worth, he joins forces with Liya and the heroic trio to repel a beast attack on the city. Their valiant efforts persuade the wary king to agree to the alliance, a crucial step in confronting the growing menace.\n",
    "\n",
    "The heroes gather their forces, but tensions rise when Liya and Lambert overhear a secret meeting where the gem’s dark influence and the Black Dragon Karas’ threat are discussed. As the alliance plans a diversionary attack and infiltration, they learn the gem's corrupting power must be destroyed to save the land. However, betrayal lurks in the shadows. Velskud, a knight, is seduced by Princess Elena, a Dark Elf with her own designs on the gem. Velskud kills the king and joins the heroes under false pretenses.\n",
    "\n",
    "Lambert, who has received a sword from an old blacksmith, sets off with his companions aboard Barnac’s ship. A lightning storm causes the ship to crash, forcing the group to continue their quest on foot. They traverse haunted ruins and face beastly scouts, all while Lambert and Liya's bond deepens. Geraint and Argenta’s secret, connected to the Dragon’s gem, is revealed as Geraint uncovers a hidden entrance to Karas’ lair.\n",
    "\n",
    "Their journey through the Dark Mountains is fraught with danger. When the Alliance’s attack begins prematurely, Karas awakens, and chaos ensues. Lambert and Liya find themselves isolated and fighting desperately. Liya sacrifices herself to save Lambert, leaving him heartbroken. In a desperate bid to save his companions, Lambert climbs Karas and manages to detach the dark gem from the dragon, killing the beast.\n",
    "\n",
    "Despite Geraint’s warnings about the gem’s corrupting influence, Lambert demands it to resurrect Liya. Geraint offers his own gem instead. As Lambert rushes to revive Liya, Velskud seizes the dark gem, transforming into a new Black Dragon. Lambert intervenes in a dramatic battle, defeating the corrupted knight with the help of a reanimated Liya and a heroic elven arrow.\n",
    "\n",
    "With the dark gem destroyed and peace restored, the heroes return to their respective lands. Lambert reunites with his loyal dogs, now renamed Bow and Arrow, while the dark gem’s lingering threat is hinted at as Princess Elena watches the heroes’ departure, holding a gem of her own.'''\n",
    "# open file and write and read in it\n",
    "with open(\"story.txt\",\"w+\") as file:\n",
    "    file.write(story)\n",
    "    file.seek(0) # start to read from start\n",
    "    content= file.read()\n",
    "    lines = content.splitlines()# converting into lines\n",
    "    count = 0 # to count the occurences of T\n",
    "# Iterate over each line\n",
    "    for values in lines:\n",
    "        value = values.strip() # Remove leading and trailing whitespace\n",
    "        if len(value)>0 and (value[0] == 'T' or value[0] == 't'):\n",
    "            count += 1\n",
    "            print(value)\n",
    "# Print the total count\n",
    "print(f\"Total occurrences of lines starting with 'T' or 't': {count}\")\n"
   ]
  },
  {
   "cell_type": "code",
   "execution_count": 64,
   "id": "7691b0c3",
   "metadata": {},
   "outputs": [
    {
     "name": "stdout",
     "output_type": "stream",
     "text": [
      "No. of vowels in file: 164\n",
      "No. of consonants in file: 278\n"
     ]
    }
   ],
   "source": [
    "# Define vowels including an empty string\n",
    "vowels = [\"A\", \"a\", \"E\", \"e\", \"I\", \"i\", \"O\", \"o\", \"U\", \"u\"]\n",
    "text = '''In a world where Goku from Dragon Ball Z teams up with Naruto from Naruto Shippuden to tackle a cosmic threat, they find themselves battling alongside Sailor Moon from Sailor Moon and Edward Elric from Fullmetal Alchemist. As they confront an otherworldly villain reminiscent of Attack on Titan, their combined powers and strategies prove crucial. Meanwhile, Luffy from One Piece and Spike Spiegel from Cowboy Bebop navigate through chaotic space battles, ensuring that the fate of their intertwined universes hangs in the balance.\n",
    "'''\n",
    "\n",
    "count_vowel = 0\n",
    "count_cons = 0\n",
    "\n",
    "with open(\"Myfile.txt\", 'w+') as file:\n",
    "    file.write(text)\n",
    "    file.seek(0)\n",
    "    content = file.read()\n",
    "    for char in content:\n",
    "        if char in vowels:\n",
    "            count_vowel += 1\n",
    "        elif char.isalpha():  # Check if the character is a letter\n",
    "            count_cons += 1\n",
    "\n",
    "print(f\"No. of vowels in file: {count_vowel}\")\n",
    "print(f\"No. of consonants in file: {count_cons}\")\n"
   ]
  },
  {
   "cell_type": "code",
   "execution_count": 70,
   "id": "b39b203d",
   "metadata": {},
   "outputs": [
    {
     "name": "stdout",
     "output_type": "stream",
     "text": [
      "Enter your data in dat: \n",
      " yes \n",
      " no \n",
      "yes\n",
      "Enter the ID of Student: 109\n",
      "Enter the Name of Student: Hardik\n",
      "Enter the Marks of Student: 68\n",
      "data stored\n",
      "Enter your data in dat: \n",
      " yes \n",
      " no \n",
      "no\n"
     ]
    }
   ],
   "source": [
    "#making a function to insert the data in the pickle file in binary\n",
    "import pickle as pk\n",
    "def insert_data(details):\n",
    "    with open(\"Assignment_5.dat\",'ab') as file:\n",
    "        pk.dump(details,file)\n",
    "        print(\"data stored\")\n",
    "    return \"Data inserted succesfully\"\n",
    "while True:\n",
    "    choice = input(\"Enter your data in dat: \\n yes \\n no \\n\")\n",
    "    if(choice in ['yes','Yes','YES']):\n",
    "        ID = int(input(\"Enter the ID of Student: \"))\n",
    "        Name = input(\"Enter the Name of Student: \")\n",
    "        Marks = int(input(\"Enter the Marks of Student: \"))\n",
    "        detail = { \"ID\": ID,\"Name\": Name,\"Marks\": Marks }\n",
    "        insert_data(detail)\n",
    "    else:\n",
    "        break\n"
   ]
  },
  {
   "cell_type": "code",
   "execution_count": 72,
   "id": "ea833b38",
   "metadata": {},
   "outputs": [
    {
     "name": "stdout",
     "output_type": "stream",
     "text": [
      "{'ID': 102, 'Name': 'Ayush', 'Marks': 86}\n",
      "{'ID': 103, 'Name': 'Hari', 'Marks': 100}\n",
      "{'ID': 101, 'Name': 'Harsh Choudhary', 'Marks': 100}\n",
      "{'ID': 104, 'Name': 'Mayur', 'Marks': 89}\n",
      "{'ID': 127, 'Name': 'Aryan Chauhan', 'Marks': 87}\n",
      "{'ID': 107, 'Name': 'Ayush Shrivastava', 'Marks': 78}\n",
      "{'ID': 109, 'Name': 'Hardik', 'Marks': 68}\n"
     ]
    }
   ],
   "source": [
    "# to read the binary values a while loop is used until there is nothing to read in the file\n",
    "with open(\"Assignment_5.dat\",'rb') as file:\n",
    "    data = []\n",
    "    while True:\n",
    "        try:\n",
    "            data.append(pk.load(file))\n",
    "        except EOFError: #error denoting nothing to read in the pickle file\n",
    "            break\n",
    "    for values in data:\n",
    "        print(values)"
   ]
  },
  {
   "cell_type": "code",
   "execution_count": 71,
   "id": "7246c2ab",
   "metadata": {},
   "outputs": [
    {
     "name": "stdout",
     "output_type": "stream",
     "text": [
      "Ayush\n",
      "Hari\n",
      "Harsh Choudhary\n",
      "Mayur\n",
      "Aryan Chauhan\n"
     ]
    }
   ],
   "source": [
    "# displaying the students who scored more tha 81 marks \n",
    "with open(\"Assignment_5.dat\",'rb') as file:\n",
    "    data = []\n",
    "    while True:\n",
    "        try:\n",
    "            data.append(pk.load(file))\n",
    "        except EOFError:\n",
    "            break\n",
    "    for values in data:\n",
    "        if values['Marks'] > 81 :\n",
    "            print(values['Name'])\n",
    "            "
   ]
  },
  {
   "cell_type": "code",
   "execution_count": null,
   "id": "1c0ec1c0",
   "metadata": {},
   "outputs": [],
   "source": []
  },
  {
   "cell_type": "code",
   "execution_count": null,
   "id": "340d94f5",
   "metadata": {},
   "outputs": [],
   "source": []
  }
 ],
 "metadata": {
  "kernelspec": {
   "display_name": "Python 3 (ipykernel)",
   "language": "python",
   "name": "python3"
  },
  "language_info": {
   "codemirror_mode": {
    "name": "ipython",
    "version": 3
   },
   "file_extension": ".py",
   "mimetype": "text/x-python",
   "name": "python",
   "nbconvert_exporter": "python",
   "pygments_lexer": "ipython3",
   "version": "3.11.7"
  }
 },
 "nbformat": 4,
 "nbformat_minor": 5
}
